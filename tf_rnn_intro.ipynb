{
 "cells": [
  {
   "cell_type": "code",
   "execution_count": 1,
   "metadata": {},
   "outputs": [],
   "source": [
    "import tensorflow as tf"
   ]
  },
  {
   "cell_type": "code",
   "execution_count": 2,
   "metadata": {},
   "outputs": [],
   "source": [
    "# simple rnn (1)\n",
    "# \n",
    "# 計算ルール： add_fn\n",
    "# 入力値の並び： [1, 1, 1, 1, 1]\n",
    "# 初期値： 0\n",
    "\n",
    "def add_fn(h_tm1, x_t):\n",
    "    return h_tm1 + x_t\n",
    "\n",
    "x = tf.placeholder(dtype=tf.float32, shape=[None])\n",
    "init_const1 = tf.constant(0., dtype=tf.float32)\n",
    "h1 = tf.scan(add_fn, x, initializer=init_const1)"
   ]
  },
  {
   "cell_type": "code",
   "execution_count": 3,
   "metadata": {},
   "outputs": [
    {
     "name": "stdout",
     "output_type": "stream",
     "text": [
      "[ 1.  2.  3.  4.  5.]\n"
     ]
    }
   ],
   "source": [
    "with tf.Session() as sess:\n",
    "    fd = {x: [1, 1, 1, 1, 1]}\n",
    "    results = sess.run(h1, feed_dict=fd)\n",
    "    print(results)"
   ]
  },
  {
   "cell_type": "code",
   "execution_count": null,
   "metadata": {},
   "outputs": [],
   "source": []
  },
  {
   "cell_type": "code",
   "execution_count": 4,
   "metadata": {},
   "outputs": [],
   "source": [
    "# simple rnn (2)\n",
    "#\n",
    "# 計算ルール： add_fn\n",
    "# 入力値の並び： [1, 2, 3, 4, 5]\n",
    "# 初期値： 0\n",
    "\n",
    "init_const2 = tf.constant(0, dtype=tf.float32)\n",
    "h2 = tf.scan(add_fn, x, initializer=init_const2)"
   ]
  },
  {
   "cell_type": "code",
   "execution_count": 5,
   "metadata": {},
   "outputs": [
    {
     "name": "stdout",
     "output_type": "stream",
     "text": [
      "[  1.   3.   6.  10.  15.]\n"
     ]
    }
   ],
   "source": [
    "with tf.Session() as sess:\n",
    "    fd = {x: [1, 2, 3, 4, 5]}\n",
    "    results = sess.run(h2, feed_dict=fd)\n",
    "    print(results)"
   ]
  },
  {
   "cell_type": "code",
   "execution_count": null,
   "metadata": {},
   "outputs": [],
   "source": []
  },
  {
   "cell_type": "code",
   "execution_count": 6,
   "metadata": {},
   "outputs": [],
   "source": [
    "# simple rnn (3)\n",
    "# \n",
    "# 計算ルール： mul_fn\n",
    "# 入力値の並び： [1, 2, 3, 4, 5]\n",
    "# 初期値： 1\n",
    "\n",
    "def mul_fn(h_tm1, x_t):\n",
    "    return h_tm1 * x_t\n",
    "\n",
    "init_const3 = tf.constant(1, dtype=tf.float32)\n",
    "h3 = tf.scan(mul_fn, x, initializer=init_const3)"
   ]
  },
  {
   "cell_type": "code",
   "execution_count": 7,
   "metadata": {},
   "outputs": [
    {
     "name": "stdout",
     "output_type": "stream",
     "text": [
      "[   1.    2.    6.   24.  120.]\n"
     ]
    }
   ],
   "source": [
    "with tf.Session() as sess:\n",
    "    fd = {x: [1, 2, 3, 4, 5]}\n",
    "    results = sess.run(h3, feed_dict=fd)\n",
    "    print(results)"
   ]
  },
  {
   "cell_type": "code",
   "execution_count": null,
   "metadata": {},
   "outputs": [],
   "source": []
  },
  {
   "cell_type": "code",
   "execution_count": 8,
   "metadata": {},
   "outputs": [],
   "source": [
    "# simple rnn (4)\n",
    "#\n",
    "# 計算ルール： scalar_rec_fn\n",
    "# 入力値の並び： [4, 2, 9, -1, 3]\n",
    "# 初期値： 1\n",
    "\n",
    "def scalar_rec_fn(h_tm1, x_t):\n",
    "    return 2 * h_tm1 - 3 * x_t + 10\n",
    "\n",
    "init_const4 = tf.constant(1, dtype=tf.float32)\n",
    "h4 = tf.scan(scalar_rec_fn, x, initializer=init_const4)"
   ]
  },
  {
   "cell_type": "code",
   "execution_count": 9,
   "metadata": {},
   "outputs": [
    {
     "name": "stdout",
     "output_type": "stream",
     "text": [
      "[ 0.  4. -9. -5. -9.]\n"
     ]
    }
   ],
   "source": [
    "with tf.Session() as sess:\n",
    "    fd = {x: [4, 2, 9, -1, 3]}\n",
    "    results = sess.run(h4, feed_dict=fd)\n",
    "    print(results)"
   ]
  },
  {
   "cell_type": "code",
   "execution_count": null,
   "metadata": {
    "collapsed": true
   },
   "outputs": [],
   "source": []
  },
  {
   "cell_type": "code",
   "execution_count": null,
   "metadata": {
    "collapsed": true
   },
   "outputs": [],
   "source": []
  }
 ],
 "metadata": {
  "kernelspec": {
   "display_name": "Python 3",
   "language": "python",
   "name": "python3"
  },
  "language_info": {
   "codemirror_mode": {
    "name": "ipython",
    "version": 3
   },
   "file_extension": ".py",
   "mimetype": "text/x-python",
   "name": "python",
   "nbconvert_exporter": "python",
   "pygments_lexer": "ipython3",
   "version": "3.6.4"
  }
 },
 "nbformat": 4,
 "nbformat_minor": 2
}
