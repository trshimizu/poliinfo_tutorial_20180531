{
 "cells": [
  {
   "cell_type": "code",
   "execution_count": null,
   "metadata": {},
   "outputs": [],
   "source": [
    "import tensorflow as tf"
   ]
  },
  {
   "cell_type": "code",
   "execution_count": null,
   "metadata": {},
   "outputs": [],
   "source": [
    "# データの入り口のplaceholderを定義\n",
    "a = tf.placeholder(dtype=tf.float32, name=\"a\")"
   ]
  },
  {
   "cell_type": "code",
   "execution_count": null,
   "metadata": {},
   "outputs": [],
   "source": [
    "# 係数のvariableを定義\n",
    "v1 = tf.Variable(dtype=tf.float32, name=\"v1\", initial_value=3.)"
   ]
  },
  {
   "cell_type": "code",
   "execution_count": null,
   "metadata": {},
   "outputs": [],
   "source": [
    "# 加算した結果を表すtensor\n",
    "n1 = a + v1"
   ]
  },
  {
   "cell_type": "code",
   "execution_count": null,
   "metadata": {},
   "outputs": [],
   "source": [
    "# 係数のvariableを もう一つ定義\n",
    "v2 = tf.Variable(dtype=tf.float32, name=\"v2\", initial_value=2.)"
   ]
  },
  {
   "cell_type": "code",
   "execution_count": null,
   "metadata": {},
   "outputs": [],
   "source": [
    "# 乗算した結果を表すtensor\n",
    "n2 = n1 * v2"
   ]
  },
  {
   "cell_type": "code",
   "execution_count": null,
   "metadata": {},
   "outputs": [],
   "source": [
    "# sessionをopenし、variableを初期化した後、計算実行\n",
    "with tf.Session() as sess:\n",
    "    sess.run(tf.global_variables_initializer())\n",
    "    ans = sess.run(n2, feed_dict={a: 1})\n",
    "    print(ans)"
   ]
  },
  {
   "cell_type": "code",
   "execution_count": null,
   "metadata": {},
   "outputs": [],
   "source": []
  },
  {
   "cell_type": "code",
   "execution_count": null,
   "metadata": {},
   "outputs": [],
   "source": [
    "# 正解： 0\n",
    "target = 0"
   ]
  },
  {
   "cell_type": "code",
   "execution_count": null,
   "metadata": {},
   "outputs": [],
   "source": [
    "# 二乗誤差としてコストを定義\n",
    "cost = tf.square(target - n2)"
   ]
  },
  {
   "cell_type": "code",
   "execution_count": null,
   "metadata": {},
   "outputs": [],
   "source": [
    "train_op = tf.train.GradientDescentOptimizer(learning_rate=0.01).minimize(cost)"
   ]
  },
  {
   "cell_type": "code",
   "execution_count": null,
   "metadata": {},
   "outputs": [],
   "source": [
    "with tf.Session() as sess:\n",
    "    sess.run(tf.global_variables_initializer())\n",
    "    print(\"initial state:\")\n",
    "    print(\"    v1: {:.03f}\".format(sess.run(v1)))\n",
    "    print(\"    v2: {:.03f}\".format(sess.run(v2)))\n",
    "    print(\"\")\n",
    "    \n",
    "    for i in range(1, 51):\n",
    "        ans, cost_val, _ = sess.run([n2, cost, train_op], feed_dict={a: 1})\n",
    "        print(\"iteration: {}\".format(i))\n",
    "        print(\"    ans: {:.03f}\".format(ans))\n",
    "        print(\"    cost: {:.03f}\".format(cost_val))\n",
    "        print(\"    v1: {:.03f}\".format(sess.run(v1)))\n",
    "        print(\"    v2: {:.03f}\".format(sess.run(v2)))\n",
    "        print(\"\")"
   ]
  },
  {
   "cell_type": "code",
   "execution_count": null,
   "metadata": {},
   "outputs": [],
   "source": [
    "with tf.Session() as sess:\n",
    "    sess.run(tf.global_variables_initializer())\n",
    "    ans, cost_val, _ = sess.run([n2, cost, train_op], feed_dict={a: 1})\n",
    "    print(\"ans: {}\".format(ans))\n",
    "    print(\"cost: {}\".format(cost_val))\n",
    "    print(\"v1: {} <- original value: 3\".format(sess.run(v1)))\n",
    "    print(\"v2: {} <- original value: 2\".format(sess.run(v2)))"
   ]
  }
 ],
 "metadata": {
  "kernelspec": {
   "display_name": "Python 3",
   "language": "python",
   "name": "python3"
  },
  "language_info": {
   "codemirror_mode": {
    "name": "ipython",
    "version": 3
   },
   "file_extension": ".py",
   "mimetype": "text/x-python",
   "name": "python",
   "nbconvert_exporter": "python",
   "pygments_lexer": "ipython3",
   "version": "3.6.4"
  }
 },
 "nbformat": 4,
 "nbformat_minor": 2
}
