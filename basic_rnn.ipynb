{
 "cells": [
  {
   "cell_type": "code",
   "execution_count": null,
   "metadata": {},
   "outputs": [],
   "source": [
    "import tensorflow as tf\n",
    "import numpy as np\n",
    "import random"
   ]
  },
  {
   "cell_type": "code",
   "execution_count": null,
   "metadata": {},
   "outputs": [],
   "source": [
    "import matplotlib.pyplot as plt\n",
    "% matplotlib inline"
   ]
  },
  {
   "cell_type": "code",
   "execution_count": null,
   "metadata": {},
   "outputs": [],
   "source": [
    "def run_rnn(a, b, x):\n",
    "    y = list()\n",
    "    v = 0.\n",
    "    for i in range(10):\n",
    "        v = v * a + x[i] * b\n",
    "        y.append(v)\n",
    "    return y\n",
    "\n",
    "def data_init():\n",
    "    X = list()\n",
    "    Y = list()\n",
    "    for i in range(100):\n",
    "        x = [random.random() * (-20.) + 10. for i in range(10)]\n",
    "        y = run_rnn(-0.8, 0.5, x)\n",
    "        X.append(x)\n",
    "        Y.append(y)\n",
    "    return (np.array(X, dtype=\"float32\"), np.array(Y, dtype=\"float32\"))"
   ]
  },
  {
   "cell_type": "code",
   "execution_count": null,
   "metadata": {},
   "outputs": [],
   "source": [
    "(X, Y) = data_init()"
   ]
  },
  {
   "cell_type": "code",
   "execution_count": null,
   "metadata": {},
   "outputs": [],
   "source": [
    "rec_id = 0\n",
    "t = np.arange(10)\n",
    "\n",
    "fig = plt.figure(figsize=(12, 4))\n",
    "ax1 = fig.add_subplot(211)\n",
    "ax2 = fig.add_subplot(212)\n",
    "\n",
    "ax1.plot(t, X[rec_id])\n",
    "ax2.plot(t, Y[rec_id])\n",
    "\n",
    "ax1.set_ylabel(\"x\")\n",
    "ax2.set_xlabel(\"t\")\n",
    "ax2.set_ylabel(\"y\")\n",
    "\n",
    "ax1.set_xlim(0, 9)\n",
    "ax1.set_ylim(-10, 10)\n",
    "ax2.set_xlim(0, 9)\n",
    "ax2.set_ylim(-10, 10)\n",
    "\n",
    "fig.tight_layout()\n",
    "plt.show()"
   ]
  },
  {
   "cell_type": "code",
   "execution_count": null,
   "metadata": {},
   "outputs": [],
   "source": [
    "x = tf.placeholder(dtype=\"float32\", name=\"x\", shape=[None])\n",
    "y = tf.placeholder(dtype=\"float32\", name=\"y\", shape=[None])\n",
    "\n",
    "a = tf.Variable(np.float32(0.3))\n",
    "b = tf.Variable(np.float32(-0.3))\n",
    "\n",
    "y_pred = tf.scan(fn=lambda h_tm1, h: a * h_tm1 + b * h, elems=x, initializer=np.float32(0.))"
   ]
  },
  {
   "cell_type": "code",
   "execution_count": null,
   "metadata": {},
   "outputs": [],
   "source": [
    "cost = tf.reduce_mean((y - y_pred) ** 2.)"
   ]
  },
  {
   "cell_type": "code",
   "execution_count": null,
   "metadata": {},
   "outputs": [],
   "source": [
    "train_op = tf.train.GradientDescentOptimizer(0.001).minimize(cost)"
   ]
  },
  {
   "cell_type": "code",
   "execution_count": null,
   "metadata": {
    "scrolled": true
   },
   "outputs": [],
   "source": [
    "with tf.Session() as sess:\n",
    "    sess.run(tf.global_variables_initializer())\n",
    "    # tf.initialize_all_variables().run()\n",
    "    \n",
    "    for i in range(3):\n",
    "        print(\"-----\")\n",
    "        print(\"epoch - {}\".format(i))\n",
    "        for (x_ar, y_ar) in zip(X, Y):\n",
    "            sess.run(train_op, feed_dict={x: x_ar, y: y_ar})\n",
    "            a_val, b_val, cost_val = sess.run([a, b, cost], feed_dict={x: x_ar, y: y_ar})\n",
    "            print(\"a: {:.3f}, b: {:.3f}, cost: {:.3f}\".format(a_val, b_val, cost_val))\n",
    "        print(\"\")\n",
    "    \n",
    "    print(\"-----\")\n",
    "    print(\"result:\")\n",
    "    print(\"a: {}\".format(a.eval()))\n",
    "    print(\"b: {}\".format(b.eval()))"
   ]
  },
  {
   "cell_type": "code",
   "execution_count": null,
   "metadata": {},
   "outputs": [],
   "source": []
  },
  {
   "cell_type": "code",
   "execution_count": null,
   "metadata": {},
   "outputs": [],
   "source": []
  }
 ],
 "metadata": {
  "kernelspec": {
   "display_name": "Python 3",
   "language": "python",
   "name": "python3"
  },
  "language_info": {
   "codemirror_mode": {
    "name": "ipython",
    "version": 3
   },
   "file_extension": ".py",
   "mimetype": "text/x-python",
   "name": "python",
   "nbconvert_exporter": "python",
   "pygments_lexer": "ipython3",
   "version": "3.6.4"
  }
 },
 "nbformat": 4,
 "nbformat_minor": 1
}
